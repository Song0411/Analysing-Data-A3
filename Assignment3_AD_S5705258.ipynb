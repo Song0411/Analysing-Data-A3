{
 "cells": [
  {
   "cell_type": "markdown",
   "metadata": {
    "id": "z81sDP-WhbM4"
   },
   "source": [
    "# Assignment 3: LDA Topic Modeling\n",
    "\n",
    "## Note\n",
    "Installing Tomotopy locally can return an error, if that's the case run this notebook on Google Colab\n",
    "\n",
    "## Research Background\n",
    "\n",
    "LDA is a popular topic modeling algorithm widely used in the fields of Digital Humanities and Social Sciences. In the field of political communication, topic modeling is often applied for analyzing politicians Twitter/X posts, identitying thematic patterns or topics revolving around their posts.\n",
    "\n",
    "For this assignment, students will work with tweets from two USA politicians, Donald Trump and Bernie Sanders, who are often regarded as right-wing populist and left-wing populist respectively. Right-wing populism often emphasizes nationalism, anti-immigration policies, and a critique of global elites from a culturally conservative perspective, focusing on preserving traditional values and social hierarchies. Left-wing populism prioritizes economic inequality, advocating for the redistribution of wealth, expansion of social services, and empowerment of the working class against the capitalist elite. While both forms of populism appeal to the \"common people\" against perceived elites and established structures, they diverge significantly in their identification of the elites, proposed solutions, and core ideologies. For a more detailed explanation, you can read the chapter by Macaulay (2019) \"Bernie and The Donald: A comparison of left-and right-wing populist discourse\" (full reference below).\n",
    "\n",
    "**Research Questions**\n",
    "1. What topics are revolving around Donald Trump and Bernie Sanders' posts separately?\n",
    "2. What are the topic differences between Trump (right-wing popoulist) and Sanders (left-wing populist)?\n",
    "\n",
    "**Aim:**\n",
    "1. The first aim of the assignment is to conduct LDA topic modeling. Identify thematic patterns or politics revolving around Trump or Sanders's posts.\n",
    "2. The second aim is to critically evaluate the results of topic modeling. Try different numbers of topics to see with which settings the topics are more coherent. Critically reflect on the results of LDA topic modeling, discussing them in relation to existing theories about populism.\n",
    "\n",
    "**Data**\n",
    "Two datasets are prepared for this assginment. Tweets from Trump and tweets from Sanders. Students are asked to work on these two datasets.\n",
    "\n",
    "**Methods**\n",
    "1. Word segamentation\n",
    "2. Removing stopwords\n",
    "3. LDA topic modeling\n",
    "4. Topic evaulation (coherence and human evaluation)\n",
    "5. Visualization of results.\n",
    "\n",
    "**References**\n",
    "1. Macaulay, M. (2019). Bernie and the Donald: A comparison of Left-and Right-wing populist discourse. *Populist discourse: International perspectives*, 165-195.\n",
    "\n",
    "\n",
    "\n"
   ]
  },
  {
   "cell_type": "markdown",
   "metadata": {
    "id": "fOAzU-HhhbM9"
   },
   "source": [
    "## Setup"
   ]
  },
  {
   "cell_type": "markdown",
   "metadata": {
    "id": "i4wYU9mJM99W"
   },
   "source": [
    "### Q1. Install necessary libraries, including `tomotopy` and `little_mallet_wrapper`, and import them"
   ]
  },
  {
   "cell_type": "code",
   "execution_count": 9,
   "metadata": {
    "id": "SFH5FrRzhbM-"
   },
   "outputs": [
    {
     "name": "stdout",
     "output_type": "stream",
     "text": [
      "Requirement already satisfied: tomotopy in d:\\anaconda\\lib\\site-packages (0.12.7)\n",
      "Requirement already satisfied: numpy>=1.11.0 in d:\\anaconda\\lib\\site-packages (from tomotopy) (1.24.3)\n",
      "Requirement already satisfied: little_mallet_wrapper in d:\\anaconda\\lib\\site-packages (0.5.0)\n"
     ]
    }
   ],
   "source": [
    "# Q1 (code)\n",
    "!pip install tomotopy\n",
    "!pip install little_mallet_wrapper"
   ]
  },
  {
   "cell_type": "code",
   "execution_count": 10,
   "metadata": {},
   "outputs": [],
   "source": [
    "import tomotopy as tp\n",
    "import little_mallet_wrapper\n",
    "import seaborn\n",
    "import glob\n",
    "from pathlib import Path\n",
    "import pandas as pd"
   ]
  },
  {
   "cell_type": "markdown",
   "metadata": {
    "id": "L4LzJUC3hbNC"
   },
   "source": [
    "## Data preprocessing"
   ]
  },
  {
   "cell_type": "markdown",
   "metadata": {
    "id": "_1qdFBgYM3_Z"
   },
   "source": [
    "### Q2. Load the two datasets and concatenate them\n",
    "\n",
    "The goal is to run topic modelling on the combined dataset of Sanders and Trump's tweets"
   ]
  },
  {
   "cell_type": "code",
   "execution_count": 11,
   "metadata": {
    "id": "Gc1Wj2K3hbNE",
    "scrolled": true
   },
   "outputs": [
    {
     "name": "stdout",
     "output_type": "stream",
     "text": [
      "     Username              TweetId                           Title  \\\n",
      "0  SenSanders  1351670845639421952  SenSanders_1351670845639421952   \n",
      "1  SenSanders  1351259762722279424  SenSanders_1351259762722279424   \n",
      "2  SenSanders  1351242822293319680  SenSanders_1351242822293319680   \n",
      "3  SenSanders  1350885541911400448  SenSanders_1350885541911400448   \n",
      "4  SenSanders  1349880150041780224  SenSanders_1349880150041780224   \n",
      "\n",
      "                                             Content  \n",
      "0  Wealth increase in past 10 months:\\n⬆️$173 bil...  \n",
      "1  Amidst massive income and wealth inequality te...  \n",
      "2  “We now have the resources, we now have the sk...  \n",
      "3  After surviving an attempt on his life, Russia...  \n",
      "4  President-Elect Biden's COVID rescue plan will...  \n"
     ]
    }
   ],
   "source": [
    "# Define file paths\n",
    "sanders_tweets_path = r'C:\\Users\\hp\\Desktop\\A3\\Assignment3-AD\\sanders_tweets.csv'  # Sanders' tweets file path\n",
    "trump_tweets_path = r'C:\\Users\\hp\\Desktop\\A3\\Assignment3-AD\\trump_tweets.csv'  # Trump's tweets file path\n",
    "\n",
    "# Read datasets\n",
    "sanders_tweets = pd.read_csv(sanders_tweets_path)  # Read Sanders' tweets\n",
    "trump_tweets = pd.read_csv(trump_tweets_path)  # Read Trump's tweets\n",
    "\n",
    "# Concatenate datasets\n",
    "combined_tweets = pd.concat([sanders_tweets, trump_tweets], ignore_index=True)  # Combine Sanders and Trump's tweets\n",
    "\n",
    "# Display the head of the combined dataset to ensure it's successfully merged\n",
    "print(combined_tweets.head())  # Print the first few rows of the combined dataset\n"
   ]
  },
  {
   "cell_type": "markdown",
   "metadata": {
    "id": "Tr84dAOvhbNE"
   },
   "source": [
    "### Q3. Clean the data\n",
    "\n",
    "Transform all tweets to lowercase, remove stopwords, punctuation, and numbers. Add the processed text to a list called `training_data`.\n",
    "Create a list with the content of the tweets (`original_texts`) and a list that allows you to identify both the author of the tweet and its ID (`titles`).\n"
   ]
  },
  {
   "cell_type": "code",
   "execution_count": 12,
   "metadata": {
    "id": "mZlaa28QhbNF"
   },
   "outputs": [
    {
     "name": "stderr",
     "output_type": "stream",
     "text": [
      "[nltk_data] Downloading package punkt to\n",
      "[nltk_data]     C:\\Users\\hp\\AppData\\Roaming\\nltk_data...\n",
      "[nltk_data]   Package punkt is already up-to-date!\n",
      "[nltk_data] Downloading package stopwords to\n",
      "[nltk_data]     C:\\Users\\hp\\AppData\\Roaming\\nltk_data...\n",
      "[nltk_data]   Package stopwords is already up-to-date!\n"
     ]
    },
    {
     "name": "stdout",
     "output_type": "stream",
     "text": [
      "['wealth increase past months billion elon musk billion jeff bezos billion walton family billion bill gates billion mark zuckerberg year increase us minimum wage must tax rich amp raise minimum wage least', 'amidst massive income wealth inequality tens millions americans working starvation wages need raise minimum wage living wage least hour excuses need act', 'resources skills techniques get rid poverty question whether nation dr martin luther king jr', 'surviving attempt life russian activist alexei navalny detained bravely returning russia today call release united states must stand fighting corruption working democracy around world', 'presidentelect bidens covid rescue plan begin provide people muchneeded support direct payments minimum wage look forward working colleagues congress urgently provide bold relief working families']\n",
      "['Wealth increase in past 10 months:\\n⬆️$173 billion: Elon Musk\\n⬆️$77 billion: Jeff Bezos\\n⬆️$60 billion: Walton family\\n⬆️$43 billion: Bill Gates\\n⬆️$39 billion: Mark Zuckerberg\\n\\n12-year increase in U.S. minimum wage: $0\\n\\nWe must tax the rich &amp; raise the minimum wage to at least $15.', 'Amidst massive income and wealth inequality tens of millions of Americans are working for starvation wages. We need to raise the minimum wage to a living wage, at least $15 an hour. No more excuses. We need to act NOW.', '“We now have the resources, we now have the skills, we now have the techniques to get rid of poverty. And the question is whether our nation has the will.” — Dr. Martin Luther King, Jr. https://t.co/X03VKsfNVX', 'After surviving an attempt on his life, Russian activist Alexei Navalny has been detained after bravely returning to Russia today. I call for his release.\\n\\nThe United States must stand with those fighting corruption and working for democracy around the world.', \"President-Elect Biden's COVID rescue plan will begin to provide our people with much-needed support, such as $2,000 direct payments and a $15 minimum wage.\\n\\nI look forward to working with him and my colleagues in Congress to urgently provide bold relief to working families. https://t.co/i8wS5180bB\"]\n",
      "['SenSanders_1351670845639421952', 'SenSanders_1351259762722279424', 'SenSanders_1351242822293319680', 'SenSanders_1350885541911400448', 'SenSanders_1349880150041780224']\n"
     ]
    }
   ],
   "source": [
    "# Q3 (code)\n",
    "\n",
    "# Tip: add the following line to remove URLS and user mentions\n",
    "# processed_text = re.sub(r\"http\\S+|www\\S+|https\\S+|\\/\\/t|co\\/|\\@\\w+|realdonaldtrump\", '', processed_text, flags=re.MULTILINE)\n",
    "\n",
    "import re\n",
    "import nltk\n",
    "from nltk.corpus import stopwords\n",
    "from nltk.tokenize import word_tokenize\n",
    "\n",
    "# Download the NLTK stopwords list\n",
    "nltk.download('punkt')\n",
    "nltk.download('stopwords')\n",
    "\n",
    "# Get the English stopwords\n",
    "stop_words = set(stopwords.words('english'))\n",
    "\n",
    "# Initialize empty lists to store processed texts and other information\n",
    "training_data = []\n",
    "original_texts = []\n",
    "titles = []\n",
    "\n",
    "for index, row in combined_tweets.iterrows():\n",
    "    # Convert the tweet text to lowercase\n",
    "    processed_text = row['Content'].lower() \n",
    "    # Remove URLs, user mentions, and specific identifiers\n",
    "    processed_text = re.sub(r\"http\\S+|www\\S+|https\\S+|\\/\\/t|co\\/|\\@\\w+|realdonaldtrump\", '', processed_text, flags=re.MULTILINE)\n",
    "    # Remove punctuation\n",
    "    processed_text = re.sub(r'[^\\w\\s]', '', processed_text)\n",
    "    # Remove numbers\n",
    "    processed_text = re.sub(r'\\d+', '', processed_text)\n",
    "    # Tokenize\n",
    "    word_tokens = word_tokenize(processed_text)\n",
    "    # Remove stopwords\n",
    "    filtered_sentence = [w for w in word_tokens if not w in stop_words]\n",
    "    # Add the processed text to the list\n",
    "    training_data.append(' '.join(filtered_sentence))\n",
    "    \n",
    "    # Add original text and identifiers\n",
    "    original_texts.append(row['Content'])\n",
    "    titles.append(f\"{row['Username']}_{row['TweetId']}\") \n",
    "\n",
    "# Show part of the processing result\n",
    "print(training_data[:5])\n",
    "print(original_texts[:5])\n",
    "print(titles[:5])\n"
   ]
  },
  {
   "cell_type": "code",
   "execution_count": 13,
   "metadata": {},
   "outputs": [
    {
     "data": {
      "text/plain": [
       "(30371, 30371, 30371)"
      ]
     },
     "execution_count": 13,
     "metadata": {},
     "output_type": "execute_result"
    }
   ],
   "source": [
    "len(training_data), len(original_texts), len(titles)"
   ]
  },
  {
   "cell_type": "markdown",
   "metadata": {
    "id": "BeKlV0IehbNH"
   },
   "source": [
    "## LDA topic modelling"
   ]
  },
  {
   "cell_type": "markdown",
   "metadata": {
    "id": "AhTQrfCkHbXS"
   },
   "source": [
    "### Q4. Train a an LDA topic model with `tomotopy`"
   ]
  },
  {
   "cell_type": "code",
   "execution_count": 14,
   "metadata": {
    "id": "lKrCy-P6hbNI"
   },
   "outputs": [
    {
     "name": "stdout",
     "output_type": "stream",
     "text": [
      "Topic Model Training...\n",
      "\n",
      "\n",
      "Iteration: 0\tLog-likelihood: -9.324370043820041\n",
      "Iteration: 10\tLog-likelihood: -8.872455807578447\n",
      "Iteration: 20\tLog-likelihood: -8.680543518964221\n",
      "Iteration: 30\tLog-likelihood: -8.588667284499778\n",
      "Iteration: 40\tLog-likelihood: -8.530157714663167\n",
      "Iteration: 50\tLog-likelihood: -8.496073184544423\n",
      "Iteration: 60\tLog-likelihood: -8.463956017053201\n",
      "Iteration: 70\tLog-likelihood: -8.444910424783037\n",
      "Iteration: 80\tLog-likelihood: -8.425476833130068\n",
      "Iteration: 90\tLog-likelihood: -8.410708918901104\n"
     ]
    }
   ],
   "source": [
    "# Q4 (code)\n",
    "\n",
    "# Number of topics to return\n",
    "num_topics = 15\n",
    "# Numer of topic words to print out\n",
    "num_topic_words = 10\n",
    "\n",
    "# Intialize the model\n",
    "model = tp.LDAModel(k=num_topics)\n",
    "\n",
    "# Add each document to the model, after splitting it up into words\n",
    "for text in training_data:\n",
    "    model.add_doc(text.strip().split())\n",
    "\n",
    "print(\"Topic Model Training...\\n\\n\")\n",
    "# Iterate over the data 10 times\n",
    "iterations = 10\n",
    "for i in range(0, 100, iterations):\n",
    "    model.train(iterations)\n",
    "    print(f'Iteration: {i}\\tLog-likelihood: {model.ll_per_word}')\n"
   ]
  },
  {
   "cell_type": "markdown",
   "metadata": {
    "id": "gucG5gYghbNI"
   },
   "source": [
    "### Q5. Print out the top words for each topic and manually evaluate their coherence\n"
   ]
  },
  {
   "cell_type": "code",
   "execution_count": 15,
   "metadata": {
    "id": "fu_F1j17hbNJ"
   },
   "outputs": [
    {
     "name": "stdout",
     "output_type": "stream",
     "text": [
      "\n",
      "Topic Model Results:\n",
      "\n",
      "\n",
      "✨Topic 0✨\n",
      "\n",
      "biden rt joe election vote win democrat republican radical left\n",
      "\n",
      "✨Topic 1✨\n",
      "\n",
      "rt trump fbi campaign obama general russia investigation comey report\n",
      "\n",
      "✨Topic 2✨\n",
      "\n",
      "health care border people wall country must right security want\n",
      "\n",
      "✨Topic 3✨\n",
      "\n",
      "us china states many deal trade amp much united good\n",
      "\n",
      "✨Topic 4✨\n",
      "\n",
      "people must us war court states united stand end american\n",
      "\n",
      "✨Topic 5✨\n",
      "\n",
      "jobs economy tax record amp american years new ever year\n",
      "\n",
      "✨Topic 6✨\n",
      "\n",
      "rt president amp trump american support today help covid coronavirus\n",
      "\n",
      "✨Topic 7✨\n",
      "\n",
      "democrats rt impeachment house nothing amp president senate dems schiff\n",
      "\n",
      "✨Topic 8✨\n",
      "\n",
      "law rt amp police national enforcement women new people federal\n",
      "\n",
      "✨Topic 9✨\n",
      "\n",
      "rt president today great pm live honor thank day join\n",
      "\n",
      "✨Topic 10✨\n",
      "\n",
      "great thank america big make new congratulations see maga job\n",
      "\n",
      "✨Topic 11✨\n",
      "\n",
      "great endorsement total military strong complete amp vote amendment vets\n",
      "\n",
      "✨Topic 12✨\n",
      "\n",
      "news fake media amp never people even bad story like\n",
      "\n",
      "✨Topic 13✨\n",
      "\n",
      "president rt trump years one never people like would said\n",
      "\n",
      "✨Topic 14✨\n",
      "\n",
      "people workers must americans tax pay make need working billion\n",
      "\n"
     ]
    }
   ],
   "source": [
    "# Q5a (code)\n",
    "# Print out top 10 words for each topic\n",
    "print(\"\\nTopic Model Results:\\n\\n\")\n",
    "\n",
    "topics = []\n",
    "topic_individual_words = []\n",
    "for topic_number in range(0, num_topics):\n",
    "    topic_words = ' '.join(word for word, prob in model.get_topic_words(topic_id=topic_number, top_n=num_topic_words))\n",
    "    topics.append(topic_words)\n",
    "    topic_individual_words.append(topic_words.split())\n",
    "    print(f\"✨Topic {topic_number}✨\\n\\n{topic_words}\\n\")"
   ]
  },
  {
   "cell_type": "code",
   "execution_count": null,
   "metadata": {
    "id": "rSeonT734KsL"
   },
   "outputs": [],
   "source": [
    "# Q5b (words)\n",
    "# Describe what each topic is about. What ideas, values, or situations do these keywords refer to?\n",
    "\n",
    "# Topic 0 : It focuses on political dynamics about the elections, mentioning key concepts and famous people such as Joe Biden, elections, Democrats, Republicans, and political descriptors like \"radical left.\" It seems to talk about the partisan divide and election discourse.\n",
    "\n",
    "# Topic 1: It focuses on investigations and controversies, mentioning Trump, the FBI, Obama, and Russia. It likely relates to investigations involving Trump's campaign and presidency\n",
    "\n",
    "# Topic 2: It focuses on issues related to health care and national security, mentioning border, wall, country, and security. This topic may be discussions on border security and health care policies\n",
    "\n",
    "# Topic 3: It focuses on international relations, particularly with China, discussing trade deals, the United States, and economic implications of these relationships.\n",
    "\n",
    "# Topic 4: It focuses on national identity and governance issues, mentioning \"war,\" \"court,\" \"United States,\" and \"American.\" This could relate to discussions on patriotism, the judiciary, and national unity.\n",
    "\n",
    "#T opic 5: It focuses on economic topics, highlighting \"jobs,\" \"economy,\" \"tax,\" and achievements in the economic sector. It reflects discussions around economic growth and policy.\n",
    "\n",
    "# Topic 6: It focuses on presidential support and national issues, including support for Trump, American patriotism, and responses to COVID-19 and the coronavirus.\n",
    "\n",
    "# Topic 7: It focuses on political processes and conflicts, particularly impeachment, with mentions of Democrats, the Senate, and key figures involved in impeachment proceedings.\n",
    "\n",
    "# Topic 8: It focuses on law enforcement and societal issues, mentioning \"law,\" \"police,\" \"national,\" and \"women.\" This could relate to discussions on law enforcement policies and social justice.\n",
    "\n",
    "# Topic 9: It focuses on presidential events and public appearances, with words like \"president,\" \"today,\" \"live,\" \"honor,\" and \"thank.\"\n",
    "\n",
    "# Topic 10: It focuses on patriotism and political campaigning, with a focus on America, achievements, and the slogan \"Make America Great Again.\"\n",
    "\n",
    "#Topic 11: It focuses on endorsements, military support, and constitutional rights, emphasizing strong military support and the Second Amendment.\n",
    "\n",
    "#Topic 12: It addresses media criticism, with a focus on \"fake news,\" media bias, and public perception of media coverage.\n",
    "\n",
    "#Topic 13: It focuses on personal and political attributes of President Trump, mentioning his presidency, perceptions, and statements attributed to him.\n",
    "\n",
    "# Topic 14: It focuses on economic justice and labor issues, discussing workers, taxes, and the economic needs of Americans, possibly reflecting on economic policies affecting the working class."
   ]
  },
  {
   "cell_type": "markdown",
   "metadata": {
    "id": "R_Cv23XVAj8E"
   },
   "source": [
    "## Topic coherence\n",
    "\n",
    "Use `tomotopy`'s [`.coherence()`](https://bab2min.github.io/tomotopy/v0.10.0/en/coherence.html) function to automatically calculate the topic coherence.\n",
    "\n",
    "The coherence value can vary from `0` (no coherence) to `1` (maximum coherence). Interpret the results and, if needed, retrain the model using a different number of topics."
   ]
  },
  {
   "cell_type": "code",
   "execution_count": 16,
   "metadata": {
    "id": "gzDijy831LHb"
   },
   "outputs": [
    {
     "name": "stdout",
     "output_type": "stream",
     "text": [
      "==== Coherence : c_v ====\n",
      "Average: 0.5447900949915251 \n",
      "Per Topic: [0.5528515502810478, 0.6533754587173461, 0.5634495675563812, 0.563346154987812, 0.5384092718362808, 0.4968708619475365, 0.40467480942606926, 0.572063946723938, 0.41049972251057626, 0.5241747684776783, 0.46551894918084147, 0.7493296056985855, 0.6214546397328377, 0.46440722048282623, 0.591424897313118]\n",
      "\n"
     ]
    }
   ],
   "source": [
    "# There are different metrics for coherence, we choose `c_v`\n",
    "\n",
    "coh = tp.coherence.Coherence(model, coherence='c_v')\n",
    "average_coherence = coh.get_score()\n",
    "coherence_per_topic = [coh.get_score(topic_id=k) for k in range(model.k)]\n",
    "\n",
    "print('==== Coherence : {} ===='.format('c_v'))\n",
    "print('Average:', average_coherence, '\\nPer Topic:', coherence_per_topic)\n",
    "print()"
   ]
  },
  {
   "cell_type": "markdown",
   "metadata": {
    "id": "DrEHnkB-Cs4_"
   },
   "source": [
    "### Q6. Interpret topic coherence\n",
    "\n",
    "Report the following:\n",
    "- number of topics you initially used to train the model and the coherence score you got\n",
    "- changes made to the number of topics and new coherence scores obtained"
   ]
  },
  {
   "cell_type": "code",
   "execution_count": null,
   "metadata": {
    "id": "hnXNA_m2DD0A"
   },
   "outputs": [],
   "source": [
    "# Q6 (words)\n",
    "\n",
    "# I started with 15 topics for my LDA model and got an average coherence score of 0.5448. \n",
    "# This score tells us the topics make sense together, but there's room for improvement.\n",
    "# The coherence varied a lot across topics, from 0.7493 down to 0.4047. \n",
    "# This means some topics were clear and well-defined, while others were a bit muddled.\n",
    "# I thought about changing the number of topics to see if it helps. \n",
    "# Playing around with the number could make some topics clearer or merge the ones that aren't as strong.\n",
    "# In the end, starting with 15 topics gave me a good look at what's being talked about in the data, showing which areas are strong and which could use a tweak. \n",
    "# My next step would be to adjust the number of topics to try and get better clarity across the board."
   ]
  },
  {
   "cell_type": "markdown",
   "metadata": {
    "id": "PpZbWHxfBr1E"
   },
   "source": [
    "### X1. Optional question 1\n",
    "(This question is not compulsory, it only allows you to get an extra point.)\n",
    "\n",
    "Create a function to plot the average coherence for models with different number of topics."
   ]
  },
  {
   "cell_type": "code",
   "execution_count": 41,
   "metadata": {
    "id": "sx124d3M5P4R"
   },
   "outputs": [
    {
     "data": {
      "image/png": "[encoded data removed]",
      "text/plain": [
       "<Figure size 1000x500 with 1 Axes>"
      ]
     },
     "metadata": {},
     "output_type": "display_data"
    }
   ],
   "source": [
    "# X1 (code)\n",
    "# Tip: y = average topic coherence; x = number of topics in the model\n",
    "\n",
    "import matplotlib.pyplot as plt\n",
    "\n",
    "def plot_coherence(x, y):\n",
    "    \"\"\"\n",
    "    Plots the average topic coherence against the number of topics in the model.\n",
    "\n",
    "    Parameters:\n",
    "    x (list): A list of the number of topics used in each model.\n",
    "    y (list): A list of the average coherence scores for each model.\n",
    "    \"\"\"\n",
    "    plt.figure(figsize=(10, 5))\n",
    "    plt.plot(x, y, marker='o', linestyle='-', color='b')\n",
    "\n",
    "    plt.title('Average Topic Coherence for Different Numbers of Topics')\n",
    "    plt.xlabel('Number of Topics')\n",
    "    plt.ylabel('Average Coherence Score')\n",
    "    plt.xticks(x)  # Ensure all topic numbers are displayed on x-axis\n",
    "    plt.grid(True)\n",
    "    \n",
    "    plt.show()\n",
    "\n",
    "# My data: one model with 15 topics and its average coherence score\n",
    "num_topics_list = [15]\n",
    "coherence_scores = [0.5447900949915251]\n",
    "\n",
    "# Call the function with my data\n",
    "plot_coherence(num_topics_list, coherence_scores)\n"
   ]
  },
  {
   "cell_type": "markdown",
   "metadata": {
    "id": "zYY_TIOyDLnN"
   },
   "source": [
    "### Q7. Topic distributions\n",
    "Calculate the topic distributions for all tweets and get the top documents for some topics (between 2 and 5) that you think could be more representative of Sanders or Trump."
   ]
  },
  {
   "cell_type": "code",
   "execution_count": 23,
   "metadata": {
    "id": "D4CQGxl6UrfL"
   },
   "outputs": [],
   "source": [
    "# Q7a (code)\n",
    "topic_distributions = [list(doc.get_topic_dist()) for doc in model.docs]"
   ]
  },
  {
   "cell_type": "code",
   "execution_count": 24,
   "metadata": {},
   "outputs": [
    {
     "data": {
      "text/plain": [
       "[0.0049202256,\n",
       " 0.0044876025,\n",
       " 0.18823043,\n",
       " 0.052214555,\n",
       " 0.0063556293,\n",
       " 0.14204286,\n",
       " 0.4185336,\n",
       " 0.097392865,\n",
       " 0.003146196,\n",
       " 0.0043556956,\n",
       " 0.0074299932,\n",
       " 0.002518229,\n",
       " 0.006968698,\n",
       " 0.00742991,\n",
       " 0.053973537]"
      ]
     },
     "execution_count": 24,
     "metadata": {},
     "output_type": "execute_result"
    }
   ],
   "source": [
    "topic_distributions[32]"
   ]
  },
  {
   "cell_type": "code",
   "execution_count": 33,
   "metadata": {},
   "outputs": [
    {
     "name": "stdout",
     "output_type": "stream",
     "text": [
      "\n",
      "Top documents for Topic #3:\n",
      "Doc #14366 - Proportion: 0.9087\n",
      "Content:  Will soon be landing in Calexico, California to look at a portion of the new WALL being built on ou...\n",
      "Doc #2672 - Proportion: 0.9085\n",
      "Content: Have you worked a minimum wage fast food job? What is it like to try to support yourself or your fam...\n",
      "Doc #14228 - Proportion: 0.9034\n",
      "Content:  Today we celebrate the lives and achievements of Americans with Down Syndrome. @VP and I will alway...\n",
      "Doc #13232 - Proportion: 0.8985\n",
      "Content:  I am pleased to announce that our very talented Deputy Secretary of Defense, Patrick Shanahan, will...\n",
      "Doc #4039 - Proportion: 0.8976\n",
      "Content: We do not need to throw 22 million off health insurance. We need Medicare-for-all, and I will introd...\n",
      "\n",
      "Top documents for Topic #4:\n",
      "Doc #10142 - Proportion: 0.9451\n",
      "Content:  The United States has an $800 Billion Dollar Yearly Trade Deficit because of our “very stupid” trad...\n",
      "Doc #10175 - Proportion: 0.9433\n",
      "Content:  The deal with North Korea is very much in the making and will be, if completed, a very good one for...\n",
      "Doc #16961 - Proportion: 0.9369\n",
      "Content:  RT @WhiteHouse: President @realDonaldTrump is directing @usedgov to eliminate all federal student l...\n",
      "Doc #17220 - Proportion: 0.9369\n",
      "Content:  RT @NHC_Atlantic: Here are the 5 AM EDT Saturday, August 31 Key Messages for Hurricane #Dorian.  A ...\n",
      "Doc #10543 - Proportion: 0.9345\n",
      "Content:  I recently had a terrific meeting with a bipartisan group of freshman lawmakers who feel very stron...\n",
      "\n",
      "Top documents for Topic #14:\n",
      "Doc #25637 - Proportion: 0.8698\n",
      "Content:  The great @LouDobbs has a very important new book coming out shortly. “The Trump Century, How Our P...\n",
      "Doc #26539 - Proportion: 0.8588\n",
      "Content:  RT @PVTrump: #TrumpPatriots we have 78 days to UNITE&amp;SUPPORT our AWESOME PRESIDENT @realDonaldT...\n",
      "Doc #15554 - Proportion: 0.8503\n",
      "Content:  RT @realDonaldTrump: The Failing @nytimes story on Mexico and Illegal Immigration through our South...\n",
      "Doc #24330 - Proportion: 0.8458\n",
      "Content:  RT @AMErikaNGIRLLL: The highest ranking members of the FBI , NSA and CIA were not only spying on Tr...\n",
      "Doc #11900 - Proportion: 0.8319\n",
      "Content:  Kevin Stitt ran a great winning campaign against a very tough opponent in Oklahoma. Kevin is a very...\n"
     ]
    }
   ],
   "source": [
    "selected_topics = [2, 3, 13]  # Focus on topics 2, 3, and 13\n",
    "\n",
    "# Initialize a dictionary to hold the top documents for each selected topic\n",
    "top_docs_per_topic = {topic: [] for topic in selected_topics}\n",
    "\n",
    "# Number of top documents to retrieve for each topic\n",
    "num_top_docs = 5\n",
    "\n",
    "for doc_index, distribution in enumerate(topic_distributions):\n",
    "    for topic in selected_topics:\n",
    "        # Add (document index, topic proportion) tuple to the list for this topic\n",
    "        top_docs_per_topic[topic].append((doc_index, distribution[topic]))\n",
    "\n",
    "# Sort the documents for each topic based on their topic proportion, in descending order\n",
    "for topic in selected_topics:\n",
    "    top_docs_per_topic[topic].sort(key=lambda x: x[1], reverse=True)\n",
    "    top_docs_per_topic[topic] = top_docs_per_topic[topic][:num_top_docs]\n",
    "\n",
    "# Print out the top documents for each selected topic\n",
    "for topic, docs in top_docs_per_topic.items():\n",
    "    print(f\"\\nTop documents for Topic #{topic + 1}:\")  # +1 to match my topic numbering\n",
    "    for doc_index, proportion in docs:\n",
    "        print(f\"Doc #{doc_index} - Proportion: {proportion:.4f}\")\n",
    "        print(f\"Content: {original_texts[doc_index][:100]}...\")  # Print the first 100 characters of the document\n"
   ]
  },
  {
   "cell_type": "markdown",
   "metadata": {
    "id": "1nyQ7GnIDrWr"
   },
   "source": [
    "Interpret the results above. Are there topics that have top tweets only by one politician? Why do you think these topics are more representative of one of the two politicians' views?"
   ]
  },
  {
   "cell_type": "code",
   "execution_count": null,
   "metadata": {
    "id": "qNXy1koX6sFN"
   },
   "outputs": [],
   "source": [
    "# Q7b (words)\n",
    "\n",
    "# The results show a fascinating insight into the topics that could potentially be more representative of Trump's views or policy focuses, based on the content of the top documents (tweets) for each topic.\n",
    "\n",
    "# Topic 3: The tweets under this topic seem to cover a range of issues, from immigration and wall construction to health insurance and support for individuals with Down Syndrome. \n",
    "# The mix of content here suggests a broad topic, possibly touching on social issues, health care, and immigration policy. \n",
    "# The tweets indicate that this topic captures a broad political discussion rather than being specific to one politician.\n",
    "\n",
    "# Topic 4: The documents focus on trade deficits, international dealings (such as with North Korea), and federal policies (like student loan forgiveness). \n",
    "# This topic appears to be more aligned with Trump's known focus on trade policies, international negotiations, and education policy changes. \n",
    "\n",
    "# Topic 14: This topic's top tweets seem to heavily feature content supporting Trump, with mentions of books about him, campaign support messages, and critiques of investigations and media portrayal. \n",
    "# It's clear why this topic is representative of Trump, as it directly involves messages of support for him, discussions about his presidency, and criticisms of his opponents."
   ]
  },
  {
   "cell_type": "markdown",
   "metadata": {
    "id": "y4LxDb31D01p"
   },
   "source": [
    "## Large scale analysis"
   ]
  },
  {
   "cell_type": "markdown",
   "metadata": {
    "id": "NXmHmjaHI2fD"
   },
   "source": [
    "### Q8. Create a random sample of the whole dataset and visualize the topic distributions for the sampled tweets"
   ]
  },
  {
   "cell_type": "code",
   "execution_count": 34,
   "metadata": {
    "id": "SQdtQCJQiBUw"
   },
   "outputs": [],
   "source": [
    "# Crete a sample of tweets\n",
    "\n",
    "from random import sample\n",
    "\n",
    "target_labels = sample(titles,100)"
   ]
  },
  {
   "cell_type": "code",
   "execution_count": 37,
   "metadata": {},
   "outputs": [
    {
     "name": "stdout",
     "output_type": "stream",
     "text": [
      "30371\n",
      "29208\n"
     ]
    }
   ],
   "source": [
    "print(len(titles))  \n",
    "print(len(topic_distributions))  "
   ]
  },
  {
   "cell_type": "code",
   "execution_count": 40,
   "metadata": {
    "id": "Af2ejUqBhtm9"
   },
   "outputs": [
    {
     "data": {
      "image/png": "[encoded data removed]",
      "text/plain": [
       "<Figure size 1200x1400 with 2 Axes>"
      ]
     },
     "metadata": {},
     "output_type": "display_data"
    }
   ],
   "source": [
    "# Q8 (code)\n",
    "# Create a heatmap using the random sample\n",
    "# Tip: to display more than 20 tweets you have to change the values of `dim =` in sns.heatmap()\n",
    "\n",
    "from random import sample\n",
    "import seaborn as sns\n",
    "import matplotlib.pyplot as plt\n",
    "\n",
    "# Convert model.docs to a list and directly sample 100 documents from it\n",
    "docs_sample = sample(list(model.docs), 100)\n",
    "# Extract the topic distribution for each sampled document\n",
    "sampled_distributions = [doc.get_topic_dist() for doc in docs_sample]\n",
    "\n",
    "# Prepare the data for visualization\n",
    "data_for_heatmap = sampled_distributions\n",
    "\n",
    "# Create the heatmap\n",
    "plt.figure(figsize=(12, 14))\n",
    "sns.heatmap(data_for_heatmap, cmap='YlGnBu', xticklabels=range(1, num_topics + 1), cbar=True)\n",
    "\n",
    "plt.title('Topic Distributions for Sampled Tweets')\n",
    "plt.xlabel('Topics')\n",
    "plt.ylabel('Sampled Tweets')\n",
    "plt.show()\n"
   ]
  },
  {
   "cell_type": "markdown",
   "metadata": {
    "id": "trwbJnmGE2VR"
   },
   "source": [
    "### Q9. Interpret the heatmap\n",
    "Do you see any pattern in the probability distributions of topics for each politician?\n",
    "\n",
    "Are there topics that are more likely for one of the two politicians?"
   ]
  },
  {
   "cell_type": "code",
   "execution_count": null,
   "metadata": {
    "id": "-NPJXZUIIpor"
   },
   "outputs": [],
   "source": [
    "# Q9 (words)\n",
    "\n",
    "# appears to be a pronounced emphasis on Topics 3, 10, and 11, as evidenced by the relatively darker shades in these columns across the sample of tweets. \n",
    "# This suggests that discussions related to these topics are more prevalent within the sampled dataset. \n",
    "\n",
    "# No. \n",
    "# To determine if certain topics are more likely for one of the politicians, we would need additional data that tags each tweet with the author's identity. \n",
    "# With such labels, we could then look for consistent patterns, such as a particular topic being more prominent in one politician’s tweets than the other’s."
   ]
  },
  {
   "cell_type": "markdown",
   "metadata": {
    "id": "uYZ9qZ2CEACM"
   },
   "source": [
    "### X2. Optional question 2\n",
    "(This question is not compulsory, it only allows you to get an extra point)\n",
    "\n",
    "Make the sample balanced, with 50 tweets by Trump and 50 by Sanders."
   ]
  },
  {
   "cell_type": "code",
   "execution_count": null,
   "metadata": {},
   "outputs": [],
   "source": []
  },
  {
   "cell_type": "markdown",
   "metadata": {
    "id": "sVvkS8XaFCmL"
   },
   "source": [
    "### X3. Optional question 3\n",
    "(This question is not compulsory, it only allows you to get an extra point)\n",
    "\n",
    "Extend the analysis to all the tweets in the dataset."
   ]
  },
  {
   "cell_type": "code",
   "execution_count": null,
   "metadata": {
    "id": "TJFY02h08kIh"
   },
   "outputs": [],
   "source": [
    "# X3 (code and words)\n",
    "# Tip: plotting a heatmap for thousands of tweets is not practical.\n",
    "# Make a comparison based on the numerical values in the `df_norm_col` dataframe (see Week 6 notebook)"
   ]
  }
 ],
 "metadata": {
  "colab": {
   "provenance": [],
   "toc_visible": true
  },
  "kernelspec": {
   "display_name": "Python 3 (ipykernel)",
   "language": "python",
   "name": "python3"
  },
  "language_info": {
   "codemirror_mode": {
    "name": "ipython",
    "version": 3
   },
   "file_extension": ".py",
   "mimetype": "text/x-python",
   "name": "python",
   "nbconvert_exporter": "python",
   "pygments_lexer": "ipython3",
   "version": "3.11.4"
  }
 },
 "nbformat": 4,
 "nbformat_minor": 1
}
